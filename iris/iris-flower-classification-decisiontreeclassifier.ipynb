{
 "cells": [
  {
   "cell_type": "markdown",
   "metadata": {
    "id": "slp3mrHcTVA1"
   },
   "source": [
    "# Iris Flower Classification using Decision Tree Classifier"
   ]
  },
  {
   "cell_type": "code",
   "execution_count": 1,
   "metadata": {
    "execution": {
     "iopub.execute_input": "2023-06-01T10:09:37.018045Z",
     "iopub.status.busy": "2023-06-01T10:09:37.017532Z",
     "iopub.status.idle": "2023-06-01T10:09:39.417116Z",
     "shell.execute_reply": "2023-06-01T10:09:39.41531Z",
     "shell.execute_reply.started": "2023-06-01T10:09:37.018006Z"
    },
    "id": "08vF4Mt3O82M"
   },
   "outputs": [],
   "source": [
    "import pandas as pd\n",
    "import numpy as np\n",
    "from sklearn.preprocessing import LabelEncoder\n",
    "from sklearn import tree"
   ]
  },
  {
   "cell_type": "code",
   "execution_count": 4,
   "metadata": {
    "execution": {
     "iopub.execute_input": "2023-06-01T10:09:39.422458Z",
     "iopub.status.busy": "2023-06-01T10:09:39.421741Z",
     "iopub.status.idle": "2023-06-01T10:09:39.465825Z",
     "shell.execute_reply": "2023-06-01T10:09:39.46459Z",
     "shell.execute_reply.started": "2023-06-01T10:09:39.42239Z"
    },
    "id": "PBP1V8xFek_R"
   },
   "outputs": [],
   "source": [
    "df = pd.read_csv('IRIS.csv')"
   ]
  },
  {
   "cell_type": "code",
   "execution_count": 5,
   "metadata": {
    "execution": {
     "iopub.execute_input": "2023-06-01T10:09:39.473939Z",
     "iopub.status.busy": "2023-06-01T10:09:39.472094Z",
     "iopub.status.idle": "2023-06-01T10:09:39.51814Z",
     "shell.execute_reply": "2023-06-01T10:09:39.516828Z",
     "shell.execute_reply.started": "2023-06-01T10:09:39.473876Z"
    },
    "id": "bmoTQ_e9tezV",
    "outputId": "6c41cbf3-2bb0-4ef0-bc9f-71a36253b9fa"
   },
   "outputs": [
    {
     "data": {
      "text/html": [
       "<div>\n",
       "<style scoped>\n",
       "    .dataframe tbody tr th:only-of-type {\n",
       "        vertical-align: middle;\n",
       "    }\n",
       "\n",
       "    .dataframe tbody tr th {\n",
       "        vertical-align: top;\n",
       "    }\n",
       "\n",
       "    .dataframe thead th {\n",
       "        text-align: right;\n",
       "    }\n",
       "</style>\n",
       "<table border=\"1\" class=\"dataframe\">\n",
       "  <thead>\n",
       "    <tr style=\"text-align: right;\">\n",
       "      <th></th>\n",
       "      <th>sepal_length</th>\n",
       "      <th>sepal_width</th>\n",
       "      <th>petal_length</th>\n",
       "      <th>petal_width</th>\n",
       "      <th>species</th>\n",
       "    </tr>\n",
       "  </thead>\n",
       "  <tbody>\n",
       "    <tr>\n",
       "      <th>0</th>\n",
       "      <td>5.1</td>\n",
       "      <td>3.5</td>\n",
       "      <td>1.4</td>\n",
       "      <td>0.2</td>\n",
       "      <td>Iris-setosa</td>\n",
       "    </tr>\n",
       "    <tr>\n",
       "      <th>1</th>\n",
       "      <td>4.9</td>\n",
       "      <td>3.0</td>\n",
       "      <td>1.4</td>\n",
       "      <td>0.2</td>\n",
       "      <td>Iris-setosa</td>\n",
       "    </tr>\n",
       "    <tr>\n",
       "      <th>2</th>\n",
       "      <td>4.7</td>\n",
       "      <td>3.2</td>\n",
       "      <td>1.3</td>\n",
       "      <td>0.2</td>\n",
       "      <td>Iris-setosa</td>\n",
       "    </tr>\n",
       "    <tr>\n",
       "      <th>3</th>\n",
       "      <td>4.6</td>\n",
       "      <td>3.1</td>\n",
       "      <td>1.5</td>\n",
       "      <td>0.2</td>\n",
       "      <td>Iris-setosa</td>\n",
       "    </tr>\n",
       "    <tr>\n",
       "      <th>4</th>\n",
       "      <td>5.0</td>\n",
       "      <td>3.6</td>\n",
       "      <td>1.4</td>\n",
       "      <td>0.2</td>\n",
       "      <td>Iris-setosa</td>\n",
       "    </tr>\n",
       "  </tbody>\n",
       "</table>\n",
       "</div>"
      ],
      "text/plain": [
       "   sepal_length  sepal_width  petal_length  petal_width      species\n",
       "0           5.1          3.5           1.4          0.2  Iris-setosa\n",
       "1           4.9          3.0           1.4          0.2  Iris-setosa\n",
       "2           4.7          3.2           1.3          0.2  Iris-setosa\n",
       "3           4.6          3.1           1.5          0.2  Iris-setosa\n",
       "4           5.0          3.6           1.4          0.2  Iris-setosa"
      ]
     },
     "execution_count": 5,
     "metadata": {},
     "output_type": "execute_result"
    }
   ],
   "source": [
    "df.head()"
   ]
  },
  {
   "cell_type": "code",
   "execution_count": 6,
   "metadata": {
    "execution": {
     "iopub.execute_input": "2023-06-01T10:09:39.520102Z",
     "iopub.status.busy": "2023-06-01T10:09:39.519646Z",
     "iopub.status.idle": "2023-06-01T10:09:39.532919Z",
     "shell.execute_reply": "2023-06-01T10:09:39.531794Z",
     "shell.execute_reply.started": "2023-06-01T10:09:39.520062Z"
    },
    "id": "lSO_Hix8thYp"
   },
   "outputs": [],
   "source": [
    "features = df.drop('species', axis='columns')\n",
    "target = df['species']"
   ]
  },
  {
   "cell_type": "code",
   "execution_count": 7,
   "metadata": {
    "execution": {
     "iopub.execute_input": "2023-06-01T10:09:39.537244Z",
     "iopub.status.busy": "2023-06-01T10:09:39.536311Z",
     "iopub.status.idle": "2023-06-01T10:09:39.562653Z",
     "shell.execute_reply": "2023-06-01T10:09:39.560749Z",
     "shell.execute_reply.started": "2023-06-01T10:09:39.537194Z"
    },
    "id": "0g16IV2SRd9t",
    "outputId": "da053fba-d33d-4a3c-ef35-0a1b6ded5ad4"
   },
   "outputs": [
    {
     "data": {
      "text/html": [
       "<div>\n",
       "<style scoped>\n",
       "    .dataframe tbody tr th:only-of-type {\n",
       "        vertical-align: middle;\n",
       "    }\n",
       "\n",
       "    .dataframe tbody tr th {\n",
       "        vertical-align: top;\n",
       "    }\n",
       "\n",
       "    .dataframe thead th {\n",
       "        text-align: right;\n",
       "    }\n",
       "</style>\n",
       "<table border=\"1\" class=\"dataframe\">\n",
       "  <thead>\n",
       "    <tr style=\"text-align: right;\">\n",
       "      <th></th>\n",
       "      <th>sepal_length</th>\n",
       "      <th>sepal_width</th>\n",
       "      <th>petal_length</th>\n",
       "      <th>petal_width</th>\n",
       "    </tr>\n",
       "  </thead>\n",
       "  <tbody>\n",
       "    <tr>\n",
       "      <th>0</th>\n",
       "      <td>5.1</td>\n",
       "      <td>3.5</td>\n",
       "      <td>1.4</td>\n",
       "      <td>0.2</td>\n",
       "    </tr>\n",
       "    <tr>\n",
       "      <th>1</th>\n",
       "      <td>4.9</td>\n",
       "      <td>3.0</td>\n",
       "      <td>1.4</td>\n",
       "      <td>0.2</td>\n",
       "    </tr>\n",
       "    <tr>\n",
       "      <th>2</th>\n",
       "      <td>4.7</td>\n",
       "      <td>3.2</td>\n",
       "      <td>1.3</td>\n",
       "      <td>0.2</td>\n",
       "    </tr>\n",
       "    <tr>\n",
       "      <th>3</th>\n",
       "      <td>4.6</td>\n",
       "      <td>3.1</td>\n",
       "      <td>1.5</td>\n",
       "      <td>0.2</td>\n",
       "    </tr>\n",
       "    <tr>\n",
       "      <th>4</th>\n",
       "      <td>5.0</td>\n",
       "      <td>3.6</td>\n",
       "      <td>1.4</td>\n",
       "      <td>0.2</td>\n",
       "    </tr>\n",
       "  </tbody>\n",
       "</table>\n",
       "</div>"
      ],
      "text/plain": [
       "   sepal_length  sepal_width  petal_length  petal_width\n",
       "0           5.1          3.5           1.4          0.2\n",
       "1           4.9          3.0           1.4          0.2\n",
       "2           4.7          3.2           1.3          0.2\n",
       "3           4.6          3.1           1.5          0.2\n",
       "4           5.0          3.6           1.4          0.2"
      ]
     },
     "execution_count": 7,
     "metadata": {},
     "output_type": "execute_result"
    }
   ],
   "source": [
    "features.head()"
   ]
  },
  {
   "cell_type": "code",
   "execution_count": 8,
   "metadata": {
    "execution": {
     "iopub.execute_input": "2023-06-01T10:09:39.566056Z",
     "iopub.status.busy": "2023-06-01T10:09:39.564224Z",
     "iopub.status.idle": "2023-06-01T10:09:39.579783Z",
     "shell.execute_reply": "2023-06-01T10:09:39.577955Z",
     "shell.execute_reply.started": "2023-06-01T10:09:39.566004Z"
    },
    "id": "GL0l8yBaSXj0",
    "outputId": "cdae6c3f-799e-4c07-b1f8-19401bd578b9"
   },
   "outputs": [
    {
     "data": {
      "text/plain": [
       "sepal_length    5.0\n",
       "sepal_width     3.6\n",
       "petal_length    1.4\n",
       "petal_width     0.2\n",
       "Name: 4, dtype: float64"
      ]
     },
     "execution_count": 8,
     "metadata": {},
     "output_type": "execute_result"
    }
   ],
   "source": [
    "features.loc[4]"
   ]
  },
  {
   "cell_type": "code",
   "execution_count": 9,
   "metadata": {
    "execution": {
     "iopub.execute_input": "2023-06-01T10:09:39.582256Z",
     "iopub.status.busy": "2023-06-01T10:09:39.581718Z",
     "iopub.status.idle": "2023-06-01T10:09:39.594165Z",
     "shell.execute_reply": "2023-06-01T10:09:39.59297Z",
     "shell.execute_reply.started": "2023-06-01T10:09:39.582202Z"
    },
    "id": "c-ARbVtowYVO"
   },
   "outputs": [],
   "source": [
    "target_num = LabelEncoder()"
   ]
  },
  {
   "cell_type": "code",
   "execution_count": 10,
   "metadata": {
    "execution": {
     "iopub.execute_input": "2023-06-01T10:09:39.596681Z",
     "iopub.status.busy": "2023-06-01T10:09:39.595887Z",
     "iopub.status.idle": "2023-06-01T10:09:39.620549Z",
     "shell.execute_reply": "2023-06-01T10:09:39.618176Z",
     "shell.execute_reply.started": "2023-06-01T10:09:39.596635Z"
    },
    "id": "7u4GREOrxtF3",
    "outputId": "a68a970f-a91b-404b-fad7-4cfb69221ae7"
   },
   "outputs": [
    {
     "name": "stderr",
     "output_type": "stream",
     "text": [
      "C:\\Users\\msi\\AppData\\Local\\Temp\\ipykernel_16128\\1128391264.py:1: SettingWithCopyWarning: \n",
      "A value is trying to be set on a copy of a slice from a DataFrame\n",
      "\n",
      "See the caveats in the documentation: https://pandas.pydata.org/pandas-docs/stable/user_guide/indexing.html#returning-a-view-versus-a-copy\n",
      "  target['t_values'] = target_num.fit_transform(target)\n"
     ]
    }
   ],
   "source": [
    "target['t_values'] = target_num.fit_transform(target)"
   ]
  },
  {
   "cell_type": "code",
   "execution_count": 11,
   "metadata": {
    "execution": {
     "iopub.execute_input": "2023-06-01T10:09:39.623216Z",
     "iopub.status.busy": "2023-06-01T10:09:39.622319Z",
     "iopub.status.idle": "2023-06-01T10:09:39.636522Z",
     "shell.execute_reply": "2023-06-01T10:09:39.635512Z",
     "shell.execute_reply.started": "2023-06-01T10:09:39.623151Z"
    },
    "id": "yb7m2kLn0ied",
    "outputId": "7cb7474e-6775-4363-b587-8a997ac91a43"
   },
   "outputs": [
    {
     "data": {
      "text/plain": [
       "0                                                 Iris-setosa\n",
       "1                                                 Iris-setosa\n",
       "2                                                 Iris-setosa\n",
       "3                                                 Iris-setosa\n",
       "4                                                 Iris-setosa\n",
       "                                  ...                        \n",
       "146                                            Iris-virginica\n",
       "147                                            Iris-virginica\n",
       "148                                            Iris-virginica\n",
       "149                                            Iris-virginica\n",
       "t_values    [0, 0, 0, 0, 0, 0, 0, 0, 0, 0, 0, 0, 0, 0, 0, ...\n",
       "Name: species, Length: 151, dtype: object"
      ]
     },
     "execution_count": 11,
     "metadata": {},
     "output_type": "execute_result"
    }
   ],
   "source": [
    "target"
   ]
  },
  {
   "cell_type": "code",
   "execution_count": 12,
   "metadata": {
    "execution": {
     "iopub.execute_input": "2023-06-01T10:09:39.63898Z",
     "iopub.status.busy": "2023-06-01T10:09:39.638281Z",
     "iopub.status.idle": "2023-06-01T10:09:39.6531Z",
     "shell.execute_reply": "2023-06-01T10:09:39.651557Z",
     "shell.execute_reply.started": "2023-06-01T10:09:39.638924Z"
    },
    "id": "iRowawppxuAf"
   },
   "outputs": [],
   "source": [
    "output_val = target['t_values']"
   ]
  },
  {
   "cell_type": "code",
   "execution_count": 13,
   "metadata": {
    "execution": {
     "iopub.execute_input": "2023-06-01T10:09:39.655833Z",
     "iopub.status.busy": "2023-06-01T10:09:39.655028Z",
     "iopub.status.idle": "2023-06-01T10:09:39.671411Z",
     "shell.execute_reply": "2023-06-01T10:09:39.670075Z",
     "shell.execute_reply.started": "2023-06-01T10:09:39.655786Z"
    },
    "id": "4FcBgIGL0NIU",
    "outputId": "21048710-a26a-464d-8966-3a896c1ea93a"
   },
   "outputs": [
    {
     "data": {
      "text/plain": [
       "array([0, 0, 0, 0, 0, 0, 0, 0, 0, 0, 0, 0, 0, 0, 0, 0, 0, 0, 0, 0, 0, 0,\n",
       "       0, 0, 0, 0, 0, 0, 0, 0, 0, 0, 0, 0, 0, 0, 0, 0, 0, 0, 0, 0, 0, 0,\n",
       "       0, 0, 0, 0, 0, 0, 1, 1, 1, 1, 1, 1, 1, 1, 1, 1, 1, 1, 1, 1, 1, 1,\n",
       "       1, 1, 1, 1, 1, 1, 1, 1, 1, 1, 1, 1, 1, 1, 1, 1, 1, 1, 1, 1, 1, 1,\n",
       "       1, 1, 1, 1, 1, 1, 1, 1, 1, 1, 1, 1, 2, 2, 2, 2, 2, 2, 2, 2, 2, 2,\n",
       "       2, 2, 2, 2, 2, 2, 2, 2, 2, 2, 2, 2, 2, 2, 2, 2, 2, 2, 2, 2, 2, 2,\n",
       "       2, 2, 2, 2, 2, 2, 2, 2, 2, 2, 2, 2, 2, 2, 2, 2, 2, 2])"
      ]
     },
     "execution_count": 13,
     "metadata": {},
     "output_type": "execute_result"
    }
   ],
   "source": [
    "output_val"
   ]
  },
  {
   "cell_type": "code",
   "execution_count": 14,
   "metadata": {
    "execution": {
     "iopub.execute_input": "2023-06-01T10:09:39.67414Z",
     "iopub.status.busy": "2023-06-01T10:09:39.673205Z",
     "iopub.status.idle": "2023-06-01T10:09:39.688717Z",
     "shell.execute_reply": "2023-06-01T10:09:39.687026Z",
     "shell.execute_reply.started": "2023-06-01T10:09:39.673942Z"
    },
    "id": "_Vt6mu9vQw09"
   },
   "outputs": [],
   "source": [
    "model = tree.DecisionTreeClassifier()"
   ]
  },
  {
   "cell_type": "code",
   "execution_count": 15,
   "metadata": {
    "execution": {
     "iopub.execute_input": "2023-06-01T10:09:39.691544Z",
     "iopub.status.busy": "2023-06-01T10:09:39.690777Z",
     "iopub.status.idle": "2023-06-01T10:09:39.723993Z",
     "shell.execute_reply": "2023-06-01T10:09:39.722287Z",
     "shell.execute_reply.started": "2023-06-01T10:09:39.691491Z"
    },
    "id": "hl9ZtZUCRTz2",
    "outputId": "25555d81-d376-4c3d-b510-c9899721264b"
   },
   "outputs": [
    {
     "data": {
      "text/html": [
       "<style>#sk-container-id-1 {color: black;background-color: white;}#sk-container-id-1 pre{padding: 0;}#sk-container-id-1 div.sk-toggleable {background-color: white;}#sk-container-id-1 label.sk-toggleable__label {cursor: pointer;display: block;width: 100%;margin-bottom: 0;padding: 0.3em;box-sizing: border-box;text-align: center;}#sk-container-id-1 label.sk-toggleable__label-arrow:before {content: \"▸\";float: left;margin-right: 0.25em;color: #696969;}#sk-container-id-1 label.sk-toggleable__label-arrow:hover:before {color: black;}#sk-container-id-1 div.sk-estimator:hover label.sk-toggleable__label-arrow:before {color: black;}#sk-container-id-1 div.sk-toggleable__content {max-height: 0;max-width: 0;overflow: hidden;text-align: left;background-color: #f0f8ff;}#sk-container-id-1 div.sk-toggleable__content pre {margin: 0.2em;color: black;border-radius: 0.25em;background-color: #f0f8ff;}#sk-container-id-1 input.sk-toggleable__control:checked~div.sk-toggleable__content {max-height: 200px;max-width: 100%;overflow: auto;}#sk-container-id-1 input.sk-toggleable__control:checked~label.sk-toggleable__label-arrow:before {content: \"▾\";}#sk-container-id-1 div.sk-estimator input.sk-toggleable__control:checked~label.sk-toggleable__label {background-color: #d4ebff;}#sk-container-id-1 div.sk-label input.sk-toggleable__control:checked~label.sk-toggleable__label {background-color: #d4ebff;}#sk-container-id-1 input.sk-hidden--visually {border: 0;clip: rect(1px 1px 1px 1px);clip: rect(1px, 1px, 1px, 1px);height: 1px;margin: -1px;overflow: hidden;padding: 0;position: absolute;width: 1px;}#sk-container-id-1 div.sk-estimator {font-family: monospace;background-color: #f0f8ff;border: 1px dotted black;border-radius: 0.25em;box-sizing: border-box;margin-bottom: 0.5em;}#sk-container-id-1 div.sk-estimator:hover {background-color: #d4ebff;}#sk-container-id-1 div.sk-parallel-item::after {content: \"\";width: 100%;border-bottom: 1px solid gray;flex-grow: 1;}#sk-container-id-1 div.sk-label:hover label.sk-toggleable__label {background-color: #d4ebff;}#sk-container-id-1 div.sk-serial::before {content: \"\";position: absolute;border-left: 1px solid gray;box-sizing: border-box;top: 0;bottom: 0;left: 50%;z-index: 0;}#sk-container-id-1 div.sk-serial {display: flex;flex-direction: column;align-items: center;background-color: white;padding-right: 0.2em;padding-left: 0.2em;position: relative;}#sk-container-id-1 div.sk-item {position: relative;z-index: 1;}#sk-container-id-1 div.sk-parallel {display: flex;align-items: stretch;justify-content: center;background-color: white;position: relative;}#sk-container-id-1 div.sk-item::before, #sk-container-id-1 div.sk-parallel-item::before {content: \"\";position: absolute;border-left: 1px solid gray;box-sizing: border-box;top: 0;bottom: 0;left: 50%;z-index: -1;}#sk-container-id-1 div.sk-parallel-item {display: flex;flex-direction: column;z-index: 1;position: relative;background-color: white;}#sk-container-id-1 div.sk-parallel-item:first-child::after {align-self: flex-end;width: 50%;}#sk-container-id-1 div.sk-parallel-item:last-child::after {align-self: flex-start;width: 50%;}#sk-container-id-1 div.sk-parallel-item:only-child::after {width: 0;}#sk-container-id-1 div.sk-dashed-wrapped {border: 1px dashed gray;margin: 0 0.4em 0.5em 0.4em;box-sizing: border-box;padding-bottom: 0.4em;background-color: white;}#sk-container-id-1 div.sk-label label {font-family: monospace;font-weight: bold;display: inline-block;line-height: 1.2em;}#sk-container-id-1 div.sk-label-container {text-align: center;}#sk-container-id-1 div.sk-container {/* jupyter's `normalize.less` sets `[hidden] { display: none; }` but bootstrap.min.css set `[hidden] { display: none !important; }` so we also need the `!important` here to be able to override the default hidden behavior on the sphinx rendered scikit-learn.org. See: https://github.com/scikit-learn/scikit-learn/issues/21755 */display: inline-block !important;position: relative;}#sk-container-id-1 div.sk-text-repr-fallback {display: none;}</style><div id=\"sk-container-id-1\" class=\"sk-top-container\"><div class=\"sk-text-repr-fallback\"><pre>DecisionTreeClassifier()</pre><b>In a Jupyter environment, please rerun this cell to show the HTML representation or trust the notebook. <br />On GitHub, the HTML representation is unable to render, please try loading this page with nbviewer.org.</b></div><div class=\"sk-container\" hidden><div class=\"sk-item\"><div class=\"sk-estimator sk-toggleable\"><input class=\"sk-toggleable__control sk-hidden--visually\" id=\"sk-estimator-id-1\" type=\"checkbox\" checked><label for=\"sk-estimator-id-1\" class=\"sk-toggleable__label sk-toggleable__label-arrow\">DecisionTreeClassifier</label><div class=\"sk-toggleable__content\"><pre>DecisionTreeClassifier()</pre></div></div></div></div></div>"
      ],
      "text/plain": [
       "DecisionTreeClassifier()"
      ]
     },
     "execution_count": 15,
     "metadata": {},
     "output_type": "execute_result"
    }
   ],
   "source": [
    "model.fit(features, output_val)"
   ]
  },
  {
   "cell_type": "code",
   "execution_count": 16,
   "metadata": {
    "execution": {
     "iopub.execute_input": "2023-06-01T10:09:39.729395Z",
     "iopub.status.busy": "2023-06-01T10:09:39.727987Z",
     "iopub.status.idle": "2023-06-01T10:09:39.741905Z",
     "shell.execute_reply": "2023-06-01T10:09:39.740502Z",
     "shell.execute_reply.started": "2023-06-01T10:09:39.729168Z"
    },
    "id": "B6DHwxVyRkl7",
    "outputId": "cf264063-57e1-4307-f7bc-1e3729277212"
   },
   "outputs": [
    {
     "data": {
      "text/plain": [
       "1.0"
      ]
     },
     "execution_count": 16,
     "metadata": {},
     "output_type": "execute_result"
    }
   ],
   "source": [
    "model.score(features, output_val)"
   ]
  },
  {
   "cell_type": "code",
   "execution_count": 18,
   "metadata": {},
   "outputs": [],
   "source": [
    "import pickle\n",
    "from sklearn import tree\n",
    "# Save the model to a file\n",
    "filename = 'decision_tree_model.sav'\n",
    "pickle.dump(model, open(filename, 'wb'))\n",
    "\n"
   ]
  },
  {
   "cell_type": "code",
   "execution_count": 19,
   "metadata": {},
   "outputs": [],
   "source": [
    "# Load the saved model from the file\n",
    "loaded_model = pickle.load(open(filename, 'rb'))"
   ]
  },
  {
   "cell_type": "code",
   "execution_count": null,
   "metadata": {},
   "outputs": [],
   "source": []
  },
  {
   "cell_type": "code",
   "execution_count": 20,
   "metadata": {
    "execution": {
     "iopub.execute_input": "2023-06-01T10:09:39.744662Z",
     "iopub.status.busy": "2023-06-01T10:09:39.744031Z",
     "iopub.status.idle": "2023-06-01T10:09:39.763258Z",
     "shell.execute_reply": "2023-06-01T10:09:39.762093Z",
     "shell.execute_reply.started": "2023-06-01T10:09:39.744588Z"
    },
    "id": "ZCxB-NRJR9GU",
    "outputId": "258b3ec7-ace4-488b-e720-8f6a02aad687"
   },
   "outputs": [
    {
     "name": "stderr",
     "output_type": "stream",
     "text": [
      "C:\\Users\\msi\\anaconda3\\envs\\newpython310\\lib\\site-packages\\sklearn\\base.py:439: UserWarning: X does not have valid feature names, but DecisionTreeClassifier was fitted with feature names\n",
      "  warnings.warn(\n"
     ]
    },
    {
     "data": {
      "text/plain": [
       "array([2])"
      ]
     },
     "execution_count": 20,
     "metadata": {},
     "output_type": "execute_result"
    }
   ],
   "source": [
    "loaded_model.predict([[6.8, 3.2, 5.9, 2.3]])"
   ]
  },
  {
   "cell_type": "code",
   "execution_count": null,
   "metadata": {},
   "outputs": [],
   "source": []
  }
 ],
 "metadata": {
  "kernelspec": {
   "display_name": "Python 3 (ipykernel)",
   "language": "python",
   "name": "python3"
  },
  "language_info": {
   "codemirror_mode": {
    "name": "ipython",
    "version": 3
   },
   "file_extension": ".py",
   "mimetype": "text/x-python",
   "name": "python",
   "nbconvert_exporter": "python",
   "pygments_lexer": "ipython3",
   "version": "3.10.11"
  }
 },
 "nbformat": 4,
 "nbformat_minor": 4
}
